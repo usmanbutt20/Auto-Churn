{
 "cells": [
  {
   "cell_type": "code",
   "execution_count": 1,
   "id": "f1843820",
   "metadata": {},
   "outputs": [],
   "source": [
    "import pandas as pd\n",
    "import numpy as np\n",
    "import matplotlib.pyplot as plt\n",
    "import seaborn as sns\n",
    "#from pandas_profiling import ProfileReport"
   ]
  },
  {
   "cell_type": "code",
   "execution_count": 2,
   "id": "b022ec14",
   "metadata": {},
   "outputs": [],
   "source": [
    "df= pd.read_csv(\"autoinsurance_churn.csv\")"
   ]
  },
  {
   "cell_type": "code",
   "execution_count": 3,
   "id": "68aaa343",
   "metadata": {},
   "outputs": [
    {
     "data": {
      "text/html": [
       "<div>\n",
       "<style scoped>\n",
       "    .dataframe tbody tr th:only-of-type {\n",
       "        vertical-align: middle;\n",
       "    }\n",
       "\n",
       "    .dataframe tbody tr th {\n",
       "        vertical-align: top;\n",
       "    }\n",
       "\n",
       "    .dataframe thead th {\n",
       "        text-align: right;\n",
       "    }\n",
       "</style>\n",
       "<table border=\"1\" class=\"dataframe\">\n",
       "  <thead>\n",
       "    <tr style=\"text-align: right;\">\n",
       "      <th></th>\n",
       "      <th>individual_id</th>\n",
       "      <th>address_id</th>\n",
       "      <th>curr_ann_amt</th>\n",
       "      <th>days_tenure</th>\n",
       "      <th>cust_orig_date</th>\n",
       "      <th>age_in_years</th>\n",
       "      <th>date_of_birth</th>\n",
       "      <th>latitude</th>\n",
       "      <th>longitude</th>\n",
       "      <th>city</th>\n",
       "      <th>...</th>\n",
       "      <th>income</th>\n",
       "      <th>has_children</th>\n",
       "      <th>length_of_residence</th>\n",
       "      <th>marital_status</th>\n",
       "      <th>home_market_value</th>\n",
       "      <th>home_owner</th>\n",
       "      <th>college_degree</th>\n",
       "      <th>good_credit</th>\n",
       "      <th>acct_suspd_date</th>\n",
       "      <th>Churn</th>\n",
       "    </tr>\n",
       "  </thead>\n",
       "  <tbody>\n",
       "    <tr>\n",
       "      <th>0</th>\n",
       "      <td>2.213000e+11</td>\n",
       "      <td>5.213000e+11</td>\n",
       "      <td>818.877997</td>\n",
       "      <td>1454.0</td>\n",
       "      <td>2018-12-09</td>\n",
       "      <td>44</td>\n",
       "      <td>1978-06-23</td>\n",
       "      <td>32.578829</td>\n",
       "      <td>-96.305006</td>\n",
       "      <td>Kaufman</td>\n",
       "      <td>...</td>\n",
       "      <td>22500.0</td>\n",
       "      <td>1.0</td>\n",
       "      <td>15.0</td>\n",
       "      <td>Married</td>\n",
       "      <td>50000 - 74999</td>\n",
       "      <td>1.0</td>\n",
       "      <td>1.0</td>\n",
       "      <td>1.0</td>\n",
       "      <td>NaN</td>\n",
       "      <td>0</td>\n",
       "    </tr>\n",
       "    <tr>\n",
       "      <th>1</th>\n",
       "      <td>2.213001e+11</td>\n",
       "      <td>5.213001e+11</td>\n",
       "      <td>974.199182</td>\n",
       "      <td>1795.0</td>\n",
       "      <td>2018-01-02</td>\n",
       "      <td>72</td>\n",
       "      <td>1950-05-30</td>\n",
       "      <td>32.732209</td>\n",
       "      <td>-97.000893</td>\n",
       "      <td>Grand Prairie</td>\n",
       "      <td>...</td>\n",
       "      <td>27500.0</td>\n",
       "      <td>0.0</td>\n",
       "      <td>2.0</td>\n",
       "      <td>Single</td>\n",
       "      <td>50000 - 74999</td>\n",
       "      <td>1.0</td>\n",
       "      <td>0.0</td>\n",
       "      <td>0.0</td>\n",
       "      <td>NaN</td>\n",
       "      <td>0</td>\n",
       "    </tr>\n",
       "    <tr>\n",
       "      <th>2</th>\n",
       "      <td>2.213007e+11</td>\n",
       "      <td>5.213002e+11</td>\n",
       "      <td>967.375112</td>\n",
       "      <td>4818.0</td>\n",
       "      <td>2009-09-23</td>\n",
       "      <td>55</td>\n",
       "      <td>1967-07-07</td>\n",
       "      <td>32.819777</td>\n",
       "      <td>-96.846938</td>\n",
       "      <td>Dallas</td>\n",
       "      <td>...</td>\n",
       "      <td>42500.0</td>\n",
       "      <td>0.0</td>\n",
       "      <td>10.0</td>\n",
       "      <td>Married</td>\n",
       "      <td>75000 - 99999</td>\n",
       "      <td>1.0</td>\n",
       "      <td>0.0</td>\n",
       "      <td>0.0</td>\n",
       "      <td>NaN</td>\n",
       "      <td>0</td>\n",
       "    </tr>\n",
       "  </tbody>\n",
       "</table>\n",
       "<p>3 rows × 22 columns</p>\n",
       "</div>"
      ],
      "text/plain": [
       "   individual_id    address_id  curr_ann_amt  days_tenure cust_orig_date  \\\n",
       "0   2.213000e+11  5.213000e+11    818.877997       1454.0     2018-12-09   \n",
       "1   2.213001e+11  5.213001e+11    974.199182       1795.0     2018-01-02   \n",
       "2   2.213007e+11  5.213002e+11    967.375112       4818.0     2009-09-23   \n",
       "\n",
       "   age_in_years date_of_birth   latitude  longitude           city  ...  \\\n",
       "0            44    1978-06-23  32.578829 -96.305006        Kaufman  ...   \n",
       "1            72    1950-05-30  32.732209 -97.000893  Grand Prairie  ...   \n",
       "2            55    1967-07-07  32.819777 -96.846938         Dallas  ...   \n",
       "\n",
       "    income has_children  length_of_residence  marital_status  \\\n",
       "0  22500.0          1.0                 15.0         Married   \n",
       "1  27500.0          0.0                  2.0          Single   \n",
       "2  42500.0          0.0                 10.0         Married   \n",
       "\n",
       "   home_market_value home_owner college_degree  good_credit  acct_suspd_date  \\\n",
       "0      50000 - 74999        1.0            1.0          1.0              NaN   \n",
       "1      50000 - 74999        1.0            0.0          0.0              NaN   \n",
       "2      75000 - 99999        1.0            0.0          0.0              NaN   \n",
       "\n",
       "   Churn  \n",
       "0      0  \n",
       "1      0  \n",
       "2      0  \n",
       "\n",
       "[3 rows x 22 columns]"
      ]
     },
     "execution_count": 3,
     "metadata": {},
     "output_type": "execute_result"
    }
   ],
   "source": [
    "df.head(3)"
   ]
  },
  {
   "cell_type": "code",
   "execution_count": 4,
   "id": "07df9bc7",
   "metadata": {},
   "outputs": [
    {
     "data": {
      "text/plain": [
       "(1680909, 22)"
      ]
     },
     "execution_count": 4,
     "metadata": {},
     "output_type": "execute_result"
    }
   ],
   "source": [
    "df.shape"
   ]
  },
  {
   "cell_type": "code",
   "execution_count": 5,
   "id": "1d561af9",
   "metadata": {},
   "outputs": [
    {
     "name": "stdout",
     "output_type": "stream",
     "text": [
      "<class 'pandas.core.frame.DataFrame'>\n",
      "RangeIndex: 1680909 entries, 0 to 1680908\n",
      "Data columns (total 22 columns):\n",
      " #   Column               Non-Null Count    Dtype  \n",
      "---  ------               --------------    -----  \n",
      " 0   individual_id        1680909 non-null  float64\n",
      " 1   address_id           1680909 non-null  float64\n",
      " 2   curr_ann_amt         1680909 non-null  float64\n",
      " 3   days_tenure          1680909 non-null  float64\n",
      " 4   cust_orig_date       1680909 non-null  object \n",
      " 5   age_in_years         1680909 non-null  int64  \n",
      " 6   date_of_birth        1680909 non-null  object \n",
      " 7   latitude             1427190 non-null  float64\n",
      " 8   longitude            1427190 non-null  float64\n",
      " 9   city                 1668842 non-null  object \n",
      " 10  state                1680909 non-null  object \n",
      " 11  county               1668842 non-null  object \n",
      " 12  income               1680909 non-null  float64\n",
      " 13  has_children         1680909 non-null  float64\n",
      " 14  length_of_residence  1680909 non-null  float64\n",
      " 15  marital_status       1680909 non-null  object \n",
      " 16  home_market_value    1588623 non-null  object \n",
      " 17  home_owner           1680909 non-null  float64\n",
      " 18  college_degree       1680909 non-null  float64\n",
      " 19  good_credit          1680909 non-null  float64\n",
      " 20  acct_suspd_date      193456 non-null   object \n",
      " 21  Churn                1680909 non-null  int64  \n",
      "dtypes: float64(12), int64(2), object(8)\n",
      "memory usage: 282.1+ MB\n"
     ]
    }
   ],
   "source": [
    "df.info()"
   ]
  },
  {
   "cell_type": "code",
   "execution_count": 6,
   "id": "bd8895ed",
   "metadata": {},
   "outputs": [
    {
     "data": {
      "text/plain": [
       "acct_suspd_date        88.490989\n",
       "latitude               15.094154\n",
       "longitude              15.094154\n",
       "home_market_value       5.490244\n",
       "county                  0.717885\n",
       "city                    0.717885\n",
       "has_children            0.000000\n",
       "good_credit             0.000000\n",
       "college_degree          0.000000\n",
       "home_owner              0.000000\n",
       "marital_status          0.000000\n",
       "length_of_residence     0.000000\n",
       "individual_id           0.000000\n",
       "income                  0.000000\n",
       "address_id              0.000000\n",
       "state                   0.000000\n",
       "date_of_birth           0.000000\n",
       "age_in_years            0.000000\n",
       "cust_orig_date          0.000000\n",
       "days_tenure             0.000000\n",
       "curr_ann_amt            0.000000\n",
       "Churn                   0.000000\n",
       "dtype: float64"
      ]
     },
     "execution_count": 6,
     "metadata": {},
     "output_type": "execute_result"
    }
   ],
   "source": [
    "(df.isnull().sum()/df.shape[0]*100).sort_values(ascending=False)"
   ]
  },
  {
   "cell_type": "code",
   "execution_count": 7,
   "id": "f6737ce0",
   "metadata": {},
   "outputs": [
    {
     "data": {
      "text/plain": [
       "0"
      ]
     },
     "execution_count": 7,
     "metadata": {},
     "output_type": "execute_result"
    }
   ],
   "source": [
    "df.duplicated().sum()"
   ]
  },
  {
   "cell_type": "code",
   "execution_count": 8,
   "id": "4abd5dff",
   "metadata": {},
   "outputs": [
    {
     "data": {
      "text/plain": [
       "Index(['individual_id', 'address_id', 'curr_ann_amt', 'days_tenure',\n",
       "       'cust_orig_date', 'age_in_years', 'date_of_birth', 'latitude',\n",
       "       'longitude', 'city', 'state', 'county', 'income', 'has_children',\n",
       "       'length_of_residence', 'marital_status', 'home_market_value',\n",
       "       'home_owner', 'college_degree', 'good_credit', 'acct_suspd_date',\n",
       "       'Churn'],\n",
       "      dtype='object')"
      ]
     },
     "execution_count": 8,
     "metadata": {},
     "output_type": "execute_result"
    }
   ],
   "source": [
    "    df.columns"
   ]
  },
  {
   "cell_type": "code",
   "execution_count": 9,
   "id": "820cb1ba",
   "metadata": {},
   "outputs": [],
   "source": [
    "#ProfileReport(df)"
   ]
  },
  {
   "cell_type": "code",
   "execution_count": 10,
   "id": "d2b237ce",
   "metadata": {},
   "outputs": [],
   "source": [
    "df.drop(['individual_id', 'address_id','date_of_birth','acct_suspd_date','curr_ann_amt', \"cust_orig_date\"],axis=1,inplace=True)"
   ]
  },
  {
   "cell_type": "code",
   "execution_count": 11,
   "id": "02e42325",
   "metadata": {},
   "outputs": [
    {
     "data": {
      "text/html": [
       "<div>\n",
       "<style scoped>\n",
       "    .dataframe tbody tr th:only-of-type {\n",
       "        vertical-align: middle;\n",
       "    }\n",
       "\n",
       "    .dataframe tbody tr th {\n",
       "        vertical-align: top;\n",
       "    }\n",
       "\n",
       "    .dataframe thead th {\n",
       "        text-align: right;\n",
       "    }\n",
       "</style>\n",
       "<table border=\"1\" class=\"dataframe\">\n",
       "  <thead>\n",
       "    <tr style=\"text-align: right;\">\n",
       "      <th></th>\n",
       "      <th>days_tenure</th>\n",
       "      <th>age_in_years</th>\n",
       "      <th>latitude</th>\n",
       "      <th>longitude</th>\n",
       "      <th>city</th>\n",
       "      <th>state</th>\n",
       "      <th>county</th>\n",
       "      <th>income</th>\n",
       "      <th>has_children</th>\n",
       "      <th>length_of_residence</th>\n",
       "      <th>marital_status</th>\n",
       "      <th>home_market_value</th>\n",
       "      <th>home_owner</th>\n",
       "      <th>college_degree</th>\n",
       "      <th>good_credit</th>\n",
       "      <th>Churn</th>\n",
       "    </tr>\n",
       "  </thead>\n",
       "  <tbody>\n",
       "    <tr>\n",
       "      <th>0</th>\n",
       "      <td>1454.0</td>\n",
       "      <td>44</td>\n",
       "      <td>32.578829</td>\n",
       "      <td>-96.305006</td>\n",
       "      <td>Kaufman</td>\n",
       "      <td>TX</td>\n",
       "      <td>Kaufman</td>\n",
       "      <td>22500.0</td>\n",
       "      <td>1.0</td>\n",
       "      <td>15.0</td>\n",
       "      <td>Married</td>\n",
       "      <td>50000 - 74999</td>\n",
       "      <td>1.0</td>\n",
       "      <td>1.0</td>\n",
       "      <td>1.0</td>\n",
       "      <td>0</td>\n",
       "    </tr>\n",
       "    <tr>\n",
       "      <th>1</th>\n",
       "      <td>1795.0</td>\n",
       "      <td>72</td>\n",
       "      <td>32.732209</td>\n",
       "      <td>-97.000893</td>\n",
       "      <td>Grand Prairie</td>\n",
       "      <td>TX</td>\n",
       "      <td>Dallas</td>\n",
       "      <td>27500.0</td>\n",
       "      <td>0.0</td>\n",
       "      <td>2.0</td>\n",
       "      <td>Single</td>\n",
       "      <td>50000 - 74999</td>\n",
       "      <td>1.0</td>\n",
       "      <td>0.0</td>\n",
       "      <td>0.0</td>\n",
       "      <td>0</td>\n",
       "    </tr>\n",
       "    <tr>\n",
       "      <th>2</th>\n",
       "      <td>4818.0</td>\n",
       "      <td>55</td>\n",
       "      <td>32.819777</td>\n",
       "      <td>-96.846938</td>\n",
       "      <td>Dallas</td>\n",
       "      <td>TX</td>\n",
       "      <td>Dallas</td>\n",
       "      <td>42500.0</td>\n",
       "      <td>0.0</td>\n",
       "      <td>10.0</td>\n",
       "      <td>Married</td>\n",
       "      <td>75000 - 99999</td>\n",
       "      <td>1.0</td>\n",
       "      <td>0.0</td>\n",
       "      <td>0.0</td>\n",
       "      <td>0</td>\n",
       "    </tr>\n",
       "    <tr>\n",
       "      <th>3</th>\n",
       "      <td>130.0</td>\n",
       "      <td>53</td>\n",
       "      <td>32.684065</td>\n",
       "      <td>-97.162180</td>\n",
       "      <td>Arlington</td>\n",
       "      <td>TX</td>\n",
       "      <td>Tarrant</td>\n",
       "      <td>125000.0</td>\n",
       "      <td>1.0</td>\n",
       "      <td>6.0</td>\n",
       "      <td>Married</td>\n",
       "      <td>175000 - 199999</td>\n",
       "      <td>1.0</td>\n",
       "      <td>0.0</td>\n",
       "      <td>1.0</td>\n",
       "      <td>1</td>\n",
       "    </tr>\n",
       "    <tr>\n",
       "      <th>4</th>\n",
       "      <td>5896.0</td>\n",
       "      <td>50</td>\n",
       "      <td>32.751398</td>\n",
       "      <td>-97.376745</td>\n",
       "      <td>Fort Worth</td>\n",
       "      <td>TX</td>\n",
       "      <td>Tarrant</td>\n",
       "      <td>87500.0</td>\n",
       "      <td>1.0</td>\n",
       "      <td>4.0</td>\n",
       "      <td>Married</td>\n",
       "      <td>225000 - 249999</td>\n",
       "      <td>1.0</td>\n",
       "      <td>1.0</td>\n",
       "      <td>1.0</td>\n",
       "      <td>0</td>\n",
       "    </tr>\n",
       "    <tr>\n",
       "      <th>...</th>\n",
       "      <td>...</td>\n",
       "      <td>...</td>\n",
       "      <td>...</td>\n",
       "      <td>...</td>\n",
       "      <td>...</td>\n",
       "      <td>...</td>\n",
       "      <td>...</td>\n",
       "      <td>...</td>\n",
       "      <td>...</td>\n",
       "      <td>...</td>\n",
       "      <td>...</td>\n",
       "      <td>...</td>\n",
       "      <td>...</td>\n",
       "      <td>...</td>\n",
       "      <td>...</td>\n",
       "      <td>...</td>\n",
       "    </tr>\n",
       "    <tr>\n",
       "      <th>1680904</th>\n",
       "      <td>803.0</td>\n",
       "      <td>55</td>\n",
       "      <td>32.678483</td>\n",
       "      <td>-96.665119</td>\n",
       "      <td>Dallas</td>\n",
       "      <td>TX</td>\n",
       "      <td>Dallas</td>\n",
       "      <td>27500.0</td>\n",
       "      <td>1.0</td>\n",
       "      <td>3.0</td>\n",
       "      <td>Single</td>\n",
       "      <td>50000 - 74999</td>\n",
       "      <td>1.0</td>\n",
       "      <td>0.0</td>\n",
       "      <td>1.0</td>\n",
       "      <td>0</td>\n",
       "    </tr>\n",
       "    <tr>\n",
       "      <th>1680905</th>\n",
       "      <td>3261.0</td>\n",
       "      <td>77</td>\n",
       "      <td>32.972007</td>\n",
       "      <td>-96.688905</td>\n",
       "      <td>Richardson</td>\n",
       "      <td>TX</td>\n",
       "      <td>Dallas</td>\n",
       "      <td>87500.0</td>\n",
       "      <td>0.0</td>\n",
       "      <td>1.0</td>\n",
       "      <td>Married</td>\n",
       "      <td>125000 - 149999</td>\n",
       "      <td>1.0</td>\n",
       "      <td>0.0</td>\n",
       "      <td>1.0</td>\n",
       "      <td>0</td>\n",
       "    </tr>\n",
       "    <tr>\n",
       "      <th>1680906</th>\n",
       "      <td>3403.0</td>\n",
       "      <td>41</td>\n",
       "      <td>32.902815</td>\n",
       "      <td>-96.510684</td>\n",
       "      <td>Rowlett</td>\n",
       "      <td>TX</td>\n",
       "      <td>Dallas</td>\n",
       "      <td>125000.0</td>\n",
       "      <td>0.0</td>\n",
       "      <td>12.0</td>\n",
       "      <td>Married</td>\n",
       "      <td>125000 - 149999</td>\n",
       "      <td>1.0</td>\n",
       "      <td>1.0</td>\n",
       "      <td>1.0</td>\n",
       "      <td>0</td>\n",
       "    </tr>\n",
       "    <tr>\n",
       "      <th>1680907</th>\n",
       "      <td>1258.0</td>\n",
       "      <td>52</td>\n",
       "      <td>32.892940</td>\n",
       "      <td>-97.245317</td>\n",
       "      <td>Keller</td>\n",
       "      <td>TX</td>\n",
       "      <td>Tarrant</td>\n",
       "      <td>87500.0</td>\n",
       "      <td>1.0</td>\n",
       "      <td>11.0</td>\n",
       "      <td>Single</td>\n",
       "      <td>75000 - 99999</td>\n",
       "      <td>1.0</td>\n",
       "      <td>1.0</td>\n",
       "      <td>1.0</td>\n",
       "      <td>0</td>\n",
       "    </tr>\n",
       "    <tr>\n",
       "      <th>1680908</th>\n",
       "      <td>2504.0</td>\n",
       "      <td>64</td>\n",
       "      <td>33.146851</td>\n",
       "      <td>-96.968217</td>\n",
       "      <td>Little Elm</td>\n",
       "      <td>TX</td>\n",
       "      <td>Denton</td>\n",
       "      <td>225000.0</td>\n",
       "      <td>1.0</td>\n",
       "      <td>4.0</td>\n",
       "      <td>Married</td>\n",
       "      <td>200000 - 224999</td>\n",
       "      <td>1.0</td>\n",
       "      <td>0.0</td>\n",
       "      <td>1.0</td>\n",
       "      <td>0</td>\n",
       "    </tr>\n",
       "  </tbody>\n",
       "</table>\n",
       "<p>1680909 rows × 16 columns</p>\n",
       "</div>"
      ],
      "text/plain": [
       "         days_tenure  age_in_years   latitude  longitude           city state  \\\n",
       "0             1454.0            44  32.578829 -96.305006        Kaufman    TX   \n",
       "1             1795.0            72  32.732209 -97.000893  Grand Prairie    TX   \n",
       "2             4818.0            55  32.819777 -96.846938         Dallas    TX   \n",
       "3              130.0            53  32.684065 -97.162180      Arlington    TX   \n",
       "4             5896.0            50  32.751398 -97.376745     Fort Worth    TX   \n",
       "...              ...           ...        ...        ...            ...   ...   \n",
       "1680904        803.0            55  32.678483 -96.665119         Dallas    TX   \n",
       "1680905       3261.0            77  32.972007 -96.688905     Richardson    TX   \n",
       "1680906       3403.0            41  32.902815 -96.510684        Rowlett    TX   \n",
       "1680907       1258.0            52  32.892940 -97.245317         Keller    TX   \n",
       "1680908       2504.0            64  33.146851 -96.968217     Little Elm    TX   \n",
       "\n",
       "          county    income  has_children  length_of_residence marital_status  \\\n",
       "0        Kaufman   22500.0           1.0                 15.0        Married   \n",
       "1         Dallas   27500.0           0.0                  2.0         Single   \n",
       "2         Dallas   42500.0           0.0                 10.0        Married   \n",
       "3        Tarrant  125000.0           1.0                  6.0        Married   \n",
       "4        Tarrant   87500.0           1.0                  4.0        Married   \n",
       "...          ...       ...           ...                  ...            ...   \n",
       "1680904   Dallas   27500.0           1.0                  3.0         Single   \n",
       "1680905   Dallas   87500.0           0.0                  1.0        Married   \n",
       "1680906   Dallas  125000.0           0.0                 12.0        Married   \n",
       "1680907  Tarrant   87500.0           1.0                 11.0         Single   \n",
       "1680908   Denton  225000.0           1.0                  4.0        Married   \n",
       "\n",
       "        home_market_value  home_owner  college_degree  good_credit  Churn  \n",
       "0           50000 - 74999         1.0             1.0          1.0      0  \n",
       "1           50000 - 74999         1.0             0.0          0.0      0  \n",
       "2           75000 - 99999         1.0             0.0          0.0      0  \n",
       "3         175000 - 199999         1.0             0.0          1.0      1  \n",
       "4         225000 - 249999         1.0             1.0          1.0      0  \n",
       "...                   ...         ...             ...          ...    ...  \n",
       "1680904     50000 - 74999         1.0             0.0          1.0      0  \n",
       "1680905   125000 - 149999         1.0             0.0          1.0      0  \n",
       "1680906   125000 - 149999         1.0             1.0          1.0      0  \n",
       "1680907     75000 - 99999         1.0             1.0          1.0      0  \n",
       "1680908   200000 - 224999         1.0             0.0          1.0      0  \n",
       "\n",
       "[1680909 rows x 16 columns]"
      ]
     },
     "execution_count": 11,
     "metadata": {},
     "output_type": "execute_result"
    }
   ],
   "source": [
    "df"
   ]
  },
  {
   "cell_type": "code",
   "execution_count": 12,
   "id": "3e7a467b",
   "metadata": {},
   "outputs": [
    {
     "data": {
      "text/plain": [
       "19"
      ]
     },
     "execution_count": 12,
     "metadata": {},
     "output_type": "execute_result"
    }
   ],
   "source": [
    "len(df[\"home_market_value\"].value_counts())"
   ]
  },
  {
   "cell_type": "code",
   "execution_count": 13,
   "id": "8fd9ab72",
   "metadata": {},
   "outputs": [
    {
     "data": {
      "text/html": [
       "<div>\n",
       "<style scoped>\n",
       "    .dataframe tbody tr th:only-of-type {\n",
       "        vertical-align: middle;\n",
       "    }\n",
       "\n",
       "    .dataframe tbody tr th {\n",
       "        vertical-align: top;\n",
       "    }\n",
       "\n",
       "    .dataframe thead th {\n",
       "        text-align: right;\n",
       "    }\n",
       "</style>\n",
       "<table border=\"1\" class=\"dataframe\">\n",
       "  <thead>\n",
       "    <tr style=\"text-align: right;\">\n",
       "      <th></th>\n",
       "      <th>home_market_value</th>\n",
       "    </tr>\n",
       "  </thead>\n",
       "  <tbody>\n",
       "    <tr>\n",
       "      <th>0</th>\n",
       "      <td>50000 - 74999</td>\n",
       "    </tr>\n",
       "    <tr>\n",
       "      <th>1</th>\n",
       "      <td>50000 - 74999</td>\n",
       "    </tr>\n",
       "    <tr>\n",
       "      <th>2</th>\n",
       "      <td>75000 - 99999</td>\n",
       "    </tr>\n",
       "    <tr>\n",
       "      <th>3</th>\n",
       "      <td>175000 - 199999</td>\n",
       "    </tr>\n",
       "    <tr>\n",
       "      <th>4</th>\n",
       "      <td>225000 - 249999</td>\n",
       "    </tr>\n",
       "    <tr>\n",
       "      <th>...</th>\n",
       "      <td>...</td>\n",
       "    </tr>\n",
       "    <tr>\n",
       "      <th>1680904</th>\n",
       "      <td>50000 - 74999</td>\n",
       "    </tr>\n",
       "    <tr>\n",
       "      <th>1680905</th>\n",
       "      <td>125000 - 149999</td>\n",
       "    </tr>\n",
       "    <tr>\n",
       "      <th>1680906</th>\n",
       "      <td>125000 - 149999</td>\n",
       "    </tr>\n",
       "    <tr>\n",
       "      <th>1680907</th>\n",
       "      <td>75000 - 99999</td>\n",
       "    </tr>\n",
       "    <tr>\n",
       "      <th>1680908</th>\n",
       "      <td>200000 - 224999</td>\n",
       "    </tr>\n",
       "  </tbody>\n",
       "</table>\n",
       "<p>1680909 rows × 1 columns</p>\n",
       "</div>"
      ],
      "text/plain": [
       "        home_market_value\n",
       "0           50000 - 74999\n",
       "1           50000 - 74999\n",
       "2           75000 - 99999\n",
       "3         175000 - 199999\n",
       "4         225000 - 249999\n",
       "...                   ...\n",
       "1680904     50000 - 74999\n",
       "1680905   125000 - 149999\n",
       "1680906   125000 - 149999\n",
       "1680907     75000 - 99999\n",
       "1680908   200000 - 224999\n",
       "\n",
       "[1680909 rows x 1 columns]"
      ]
     },
     "execution_count": 13,
     "metadata": {},
     "output_type": "execute_result"
    }
   ],
   "source": [
    "df[[\"home_market_value\"]]"
   ]
  },
  {
   "cell_type": "code",
   "execution_count": 14,
   "id": "8394521b",
   "metadata": {},
   "outputs": [],
   "source": [
    "df.dropna(inplace=True)"
   ]
  },
  {
   "cell_type": "code",
   "execution_count": 15,
   "id": "30471511",
   "metadata": {},
   "outputs": [
    {
     "data": {
      "text/plain": [
       "(1409511, 16)"
      ]
     },
     "execution_count": 15,
     "metadata": {},
     "output_type": "execute_result"
    }
   ],
   "source": [
    "df.shape"
   ]
  },
  {
   "cell_type": "code",
   "execution_count": 16,
   "id": "242f7cba",
   "metadata": {},
   "outputs": [
    {
     "data": {
      "text/plain": [
       "days_tenure            0.0\n",
       "age_in_years           0.0\n",
       "latitude               0.0\n",
       "longitude              0.0\n",
       "city                   0.0\n",
       "state                  0.0\n",
       "county                 0.0\n",
       "income                 0.0\n",
       "has_children           0.0\n",
       "length_of_residence    0.0\n",
       "marital_status         0.0\n",
       "home_market_value      0.0\n",
       "home_owner             0.0\n",
       "college_degree         0.0\n",
       "good_credit            0.0\n",
       "Churn                  0.0\n",
       "dtype: float64"
      ]
     },
     "execution_count": 16,
     "metadata": {},
     "output_type": "execute_result"
    }
   ],
   "source": [
    "(df.isnull().sum()/df.shape[0]*100).sort_values(ascending=False)"
   ]
  },
  {
   "cell_type": "code",
   "execution_count": 17,
   "id": "a17c590e",
   "metadata": {},
   "outputs": [],
   "source": [
    "df.drop(\"home_market_value\", axis=1, inplace=True)"
   ]
  },
  {
   "cell_type": "code",
   "execution_count": 56,
   "id": "6d50833e",
   "metadata": {},
   "outputs": [
    {
     "data": {
      "image/png": "[encoded data removed]",
      "text/plain": [
       "<Figure size 640x480 with 1 Axes>"
      ]
     },
     "metadata": {},
     "output_type": "display_data"
    }
   ],
   "source": [
    "import seaborn as sns\n",
    "sns.countplot(data= df, x = 'Churn')\n",
    "plt.show()"
   ]
  },
  {
   "cell_type": "code",
   "execution_count": 18,
   "id": "471d7c3b",
   "metadata": {},
   "outputs": [
    {
     "data": {
      "text/html": [
       "<div>\n",
       "<style scoped>\n",
       "    .dataframe tbody tr th:only-of-type {\n",
       "        vertical-align: middle;\n",
       "    }\n",
       "\n",
       "    .dataframe tbody tr th {\n",
       "        vertical-align: top;\n",
       "    }\n",
       "\n",
       "    .dataframe thead th {\n",
       "        text-align: right;\n",
       "    }\n",
       "</style>\n",
       "<table border=\"1\" class=\"dataframe\">\n",
       "  <thead>\n",
       "    <tr style=\"text-align: right;\">\n",
       "      <th></th>\n",
       "      <th>days_tenure</th>\n",
       "      <th>age_in_years</th>\n",
       "      <th>latitude</th>\n",
       "      <th>longitude</th>\n",
       "      <th>city</th>\n",
       "      <th>state</th>\n",
       "      <th>county</th>\n",
       "      <th>income</th>\n",
       "      <th>has_children</th>\n",
       "      <th>length_of_residence</th>\n",
       "      <th>marital_status</th>\n",
       "      <th>home_owner</th>\n",
       "      <th>college_degree</th>\n",
       "      <th>good_credit</th>\n",
       "      <th>Churn</th>\n",
       "    </tr>\n",
       "  </thead>\n",
       "  <tbody>\n",
       "    <tr>\n",
       "      <th>0</th>\n",
       "      <td>1454.0</td>\n",
       "      <td>44</td>\n",
       "      <td>32.578829</td>\n",
       "      <td>-96.305006</td>\n",
       "      <td>Kaufman</td>\n",
       "      <td>TX</td>\n",
       "      <td>Kaufman</td>\n",
       "      <td>22500.0</td>\n",
       "      <td>1.0</td>\n",
       "      <td>15.0</td>\n",
       "      <td>Married</td>\n",
       "      <td>1.0</td>\n",
       "      <td>1.0</td>\n",
       "      <td>1.0</td>\n",
       "      <td>0</td>\n",
       "    </tr>\n",
       "    <tr>\n",
       "      <th>1</th>\n",
       "      <td>1795.0</td>\n",
       "      <td>72</td>\n",
       "      <td>32.732209</td>\n",
       "      <td>-97.000893</td>\n",
       "      <td>Grand Prairie</td>\n",
       "      <td>TX</td>\n",
       "      <td>Dallas</td>\n",
       "      <td>27500.0</td>\n",
       "      <td>0.0</td>\n",
       "      <td>2.0</td>\n",
       "      <td>Single</td>\n",
       "      <td>1.0</td>\n",
       "      <td>0.0</td>\n",
       "      <td>0.0</td>\n",
       "      <td>0</td>\n",
       "    </tr>\n",
       "    <tr>\n",
       "      <th>2</th>\n",
       "      <td>4818.0</td>\n",
       "      <td>55</td>\n",
       "      <td>32.819777</td>\n",
       "      <td>-96.846938</td>\n",
       "      <td>Dallas</td>\n",
       "      <td>TX</td>\n",
       "      <td>Dallas</td>\n",
       "      <td>42500.0</td>\n",
       "      <td>0.0</td>\n",
       "      <td>10.0</td>\n",
       "      <td>Married</td>\n",
       "      <td>1.0</td>\n",
       "      <td>0.0</td>\n",
       "      <td>0.0</td>\n",
       "      <td>0</td>\n",
       "    </tr>\n",
       "    <tr>\n",
       "      <th>3</th>\n",
       "      <td>130.0</td>\n",
       "      <td>53</td>\n",
       "      <td>32.684065</td>\n",
       "      <td>-97.162180</td>\n",
       "      <td>Arlington</td>\n",
       "      <td>TX</td>\n",
       "      <td>Tarrant</td>\n",
       "      <td>125000.0</td>\n",
       "      <td>1.0</td>\n",
       "      <td>6.0</td>\n",
       "      <td>Married</td>\n",
       "      <td>1.0</td>\n",
       "      <td>0.0</td>\n",
       "      <td>1.0</td>\n",
       "      <td>1</td>\n",
       "    </tr>\n",
       "    <tr>\n",
       "      <th>4</th>\n",
       "      <td>5896.0</td>\n",
       "      <td>50</td>\n",
       "      <td>32.751398</td>\n",
       "      <td>-97.376745</td>\n",
       "      <td>Fort Worth</td>\n",
       "      <td>TX</td>\n",
       "      <td>Tarrant</td>\n",
       "      <td>87500.0</td>\n",
       "      <td>1.0</td>\n",
       "      <td>4.0</td>\n",
       "      <td>Married</td>\n",
       "      <td>1.0</td>\n",
       "      <td>1.0</td>\n",
       "      <td>1.0</td>\n",
       "      <td>0</td>\n",
       "    </tr>\n",
       "    <tr>\n",
       "      <th>...</th>\n",
       "      <td>...</td>\n",
       "      <td>...</td>\n",
       "      <td>...</td>\n",
       "      <td>...</td>\n",
       "      <td>...</td>\n",
       "      <td>...</td>\n",
       "      <td>...</td>\n",
       "      <td>...</td>\n",
       "      <td>...</td>\n",
       "      <td>...</td>\n",
       "      <td>...</td>\n",
       "      <td>...</td>\n",
       "      <td>...</td>\n",
       "      <td>...</td>\n",
       "      <td>...</td>\n",
       "    </tr>\n",
       "    <tr>\n",
       "      <th>1680904</th>\n",
       "      <td>803.0</td>\n",
       "      <td>55</td>\n",
       "      <td>32.678483</td>\n",
       "      <td>-96.665119</td>\n",
       "      <td>Dallas</td>\n",
       "      <td>TX</td>\n",
       "      <td>Dallas</td>\n",
       "      <td>27500.0</td>\n",
       "      <td>1.0</td>\n",
       "      <td>3.0</td>\n",
       "      <td>Single</td>\n",
       "      <td>1.0</td>\n",
       "      <td>0.0</td>\n",
       "      <td>1.0</td>\n",
       "      <td>0</td>\n",
       "    </tr>\n",
       "    <tr>\n",
       "      <th>1680905</th>\n",
       "      <td>3261.0</td>\n",
       "      <td>77</td>\n",
       "      <td>32.972007</td>\n",
       "      <td>-96.688905</td>\n",
       "      <td>Richardson</td>\n",
       "      <td>TX</td>\n",
       "      <td>Dallas</td>\n",
       "      <td>87500.0</td>\n",
       "      <td>0.0</td>\n",
       "      <td>1.0</td>\n",
       "      <td>Married</td>\n",
       "      <td>1.0</td>\n",
       "      <td>0.0</td>\n",
       "      <td>1.0</td>\n",
       "      <td>0</td>\n",
       "    </tr>\n",
       "    <tr>\n",
       "      <th>1680906</th>\n",
       "      <td>3403.0</td>\n",
       "      <td>41</td>\n",
       "      <td>32.902815</td>\n",
       "      <td>-96.510684</td>\n",
       "      <td>Rowlett</td>\n",
       "      <td>TX</td>\n",
       "      <td>Dallas</td>\n",
       "      <td>125000.0</td>\n",
       "      <td>0.0</td>\n",
       "      <td>12.0</td>\n",
       "      <td>Married</td>\n",
       "      <td>1.0</td>\n",
       "      <td>1.0</td>\n",
       "      <td>1.0</td>\n",
       "      <td>0</td>\n",
       "    </tr>\n",
       "    <tr>\n",
       "      <th>1680907</th>\n",
       "      <td>1258.0</td>\n",
       "      <td>52</td>\n",
       "      <td>32.892940</td>\n",
       "      <td>-97.245317</td>\n",
       "      <td>Keller</td>\n",
       "      <td>TX</td>\n",
       "      <td>Tarrant</td>\n",
       "      <td>87500.0</td>\n",
       "      <td>1.0</td>\n",
       "      <td>11.0</td>\n",
       "      <td>Single</td>\n",
       "      <td>1.0</td>\n",
       "      <td>1.0</td>\n",
       "      <td>1.0</td>\n",
       "      <td>0</td>\n",
       "    </tr>\n",
       "    <tr>\n",
       "      <th>1680908</th>\n",
       "      <td>2504.0</td>\n",
       "      <td>64</td>\n",
       "      <td>33.146851</td>\n",
       "      <td>-96.968217</td>\n",
       "      <td>Little Elm</td>\n",
       "      <td>TX</td>\n",
       "      <td>Denton</td>\n",
       "      <td>225000.0</td>\n",
       "      <td>1.0</td>\n",
       "      <td>4.0</td>\n",
       "      <td>Married</td>\n",
       "      <td>1.0</td>\n",
       "      <td>0.0</td>\n",
       "      <td>1.0</td>\n",
       "      <td>0</td>\n",
       "    </tr>\n",
       "  </tbody>\n",
       "</table>\n",
       "<p>1409511 rows × 15 columns</p>\n",
       "</div>"
      ],
      "text/plain": [
       "         days_tenure  age_in_years   latitude  longitude           city state  \\\n",
       "0             1454.0            44  32.578829 -96.305006        Kaufman    TX   \n",
       "1             1795.0            72  32.732209 -97.000893  Grand Prairie    TX   \n",
       "2             4818.0            55  32.819777 -96.846938         Dallas    TX   \n",
       "3              130.0            53  32.684065 -97.162180      Arlington    TX   \n",
       "4             5896.0            50  32.751398 -97.376745     Fort Worth    TX   \n",
       "...              ...           ...        ...        ...            ...   ...   \n",
       "1680904        803.0            55  32.678483 -96.665119         Dallas    TX   \n",
       "1680905       3261.0            77  32.972007 -96.688905     Richardson    TX   \n",
       "1680906       3403.0            41  32.902815 -96.510684        Rowlett    TX   \n",
       "1680907       1258.0            52  32.892940 -97.245317         Keller    TX   \n",
       "1680908       2504.0            64  33.146851 -96.968217     Little Elm    TX   \n",
       "\n",
       "          county    income  has_children  length_of_residence marital_status  \\\n",
       "0        Kaufman   22500.0           1.0                 15.0        Married   \n",
       "1         Dallas   27500.0           0.0                  2.0         Single   \n",
       "2         Dallas   42500.0           0.0                 10.0        Married   \n",
       "3        Tarrant  125000.0           1.0                  6.0        Married   \n",
       "4        Tarrant   87500.0           1.0                  4.0        Married   \n",
       "...          ...       ...           ...                  ...            ...   \n",
       "1680904   Dallas   27500.0           1.0                  3.0         Single   \n",
       "1680905   Dallas   87500.0           0.0                  1.0        Married   \n",
       "1680906   Dallas  125000.0           0.0                 12.0        Married   \n",
       "1680907  Tarrant   87500.0           1.0                 11.0         Single   \n",
       "1680908   Denton  225000.0           1.0                  4.0        Married   \n",
       "\n",
       "         home_owner  college_degree  good_credit  Churn  \n",
       "0               1.0             1.0          1.0      0  \n",
       "1               1.0             0.0          0.0      0  \n",
       "2               1.0             0.0          0.0      0  \n",
       "3               1.0             0.0          1.0      1  \n",
       "4               1.0             1.0          1.0      0  \n",
       "...             ...             ...          ...    ...  \n",
       "1680904         1.0             0.0          1.0      0  \n",
       "1680905         1.0             0.0          1.0      0  \n",
       "1680906         1.0             1.0          1.0      0  \n",
       "1680907         1.0             1.0          1.0      0  \n",
       "1680908         1.0             0.0          1.0      0  \n",
       "\n",
       "[1409511 rows x 15 columns]"
      ]
     },
     "execution_count": 18,
     "metadata": {},
     "output_type": "execute_result"
    }
   ],
   "source": [
    "df"
   ]
  },
  {
   "cell_type": "code",
   "execution_count": 19,
   "id": "01369bcc",
   "metadata": {},
   "outputs": [
    {
     "data": {
      "text/plain": [
       "Index(['city', 'state', 'county', 'marital_status'], dtype='object')"
      ]
     },
     "execution_count": 19,
     "metadata": {},
     "output_type": "execute_result"
    }
   ],
   "source": [
    "#for categorical Columns in a dataset\n",
    "categorical_columns = df.select_dtypes(exclude='number').columns\n",
    "categorical_columns"
   ]
  },
  {
   "cell_type": "code",
   "execution_count": 20,
   "id": "3c64f26d",
   "metadata": {},
   "outputs": [],
   "source": [
    "#sklearn preprocessing\n",
    "from sklearn.preprocessing import LabelEncoder\n",
    "from sklearn.preprocessing import OneHotEncoder\n",
    "from sklearn.preprocessing import StandardScaler\n",
    "from sklearn.model_selection import train_test_split\n"
   ]
  },
  {
   "cell_type": "code",
   "execution_count": 21,
   "id": "5fd49ed1",
   "metadata": {},
   "outputs": [
    {
     "data": {
      "text/plain": [
       "county  \n",
       "Dallas      513159\n",
       "Tarrant     420260\n",
       "Collin      181170\n",
       "Denton      156843\n",
       "Ellis        39663\n",
       "Kaufman      29008\n",
       "Parker       22041\n",
       "Johnson      21748\n",
       "Rockwall     21546\n",
       "Hunt          1599\n",
       "Cooke         1480\n",
       "Navarro        528\n",
       "Grayson        398\n",
       "Hill            68\n",
       "Name: count, dtype: int64"
      ]
     },
     "execution_count": 21,
     "metadata": {},
     "output_type": "execute_result"
    }
   ],
   "source": [
    "df[[\"county\"]].value_counts()"
   ]
  },
  {
   "cell_type": "code",
   "execution_count": 22,
   "id": "a9c9a397",
   "metadata": {},
   "outputs": [
    {
     "data": {
      "text/plain": [
       "14"
      ]
     },
     "execution_count": 22,
     "metadata": {},
     "output_type": "execute_result"
    }
   ],
   "source": [
    "len(df[[\"county\"]].value_counts())"
   ]
  },
  {
   "cell_type": "code",
   "execution_count": 23,
   "id": "37a5a7cd",
   "metadata": {},
   "outputs": [],
   "source": [
    "drop= [\"Hill\"]\n",
    "df = df[~df[\"county\"].isin(drop)]"
   ]
  },
  {
   "cell_type": "code",
   "execution_count": 24,
   "id": "17c91581",
   "metadata": {},
   "outputs": [
    {
     "data": {
      "text/plain": [
       "county  \n",
       "Dallas      513159\n",
       "Tarrant     420260\n",
       "Collin      181170\n",
       "Denton      156843\n",
       "Ellis        39663\n",
       "Kaufman      29008\n",
       "Parker       22041\n",
       "Johnson      21748\n",
       "Rockwall     21546\n",
       "Hunt          1599\n",
       "Cooke         1480\n",
       "Navarro        528\n",
       "Grayson        398\n",
       "Name: count, dtype: int64"
      ]
     },
     "execution_count": 24,
     "metadata": {},
     "output_type": "execute_result"
    }
   ],
   "source": [
    "df[[\"county\"]].value_counts()"
   ]
  },
  {
   "cell_type": "code",
   "execution_count": 25,
   "id": "aed8bed7",
   "metadata": {},
   "outputs": [
    {
     "data": {
      "text/plain": [
       "state\n",
       "TX       1409443\n",
       "Name: count, dtype: int64"
      ]
     },
     "execution_count": 25,
     "metadata": {},
     "output_type": "execute_result"
    }
   ],
   "source": [
    "df[[\"state\"]].value_counts()"
   ]
  },
  {
   "cell_type": "code",
   "execution_count": 26,
   "id": "fe29777d",
   "metadata": {},
   "outputs": [
    {
     "name": "stderr",
     "output_type": "stream",
     "text": [
      "C:\\Users\\AS\\AppData\\Local\\Temp\\ipykernel_9252\\3559175806.py:1: SettingWithCopyWarning: \n",
      "A value is trying to be set on a copy of a slice from a DataFrame\n",
      "\n",
      "See the caveats in the documentation: https://pandas.pydata.org/pandas-docs/stable/user_guide/indexing.html#returning-a-view-versus-a-copy\n",
      "  df.drop([\"state\"],axis=1,inplace=True)\n"
     ]
    }
   ],
   "source": [
    "df.drop([\"state\"],axis=1,inplace=True)"
   ]
  },
  {
   "cell_type": "code",
   "execution_count": 27,
   "id": "dfd195d6",
   "metadata": {},
   "outputs": [
    {
     "data": {
      "text/html": [
       "<div>\n",
       "<style scoped>\n",
       "    .dataframe tbody tr th:only-of-type {\n",
       "        vertical-align: middle;\n",
       "    }\n",
       "\n",
       "    .dataframe tbody tr th {\n",
       "        vertical-align: top;\n",
       "    }\n",
       "\n",
       "    .dataframe thead th {\n",
       "        text-align: right;\n",
       "    }\n",
       "</style>\n",
       "<table border=\"1\" class=\"dataframe\">\n",
       "  <thead>\n",
       "    <tr style=\"text-align: right;\">\n",
       "      <th></th>\n",
       "      <th>days_tenure</th>\n",
       "      <th>age_in_years</th>\n",
       "      <th>latitude</th>\n",
       "      <th>longitude</th>\n",
       "      <th>city</th>\n",
       "      <th>county</th>\n",
       "      <th>income</th>\n",
       "      <th>has_children</th>\n",
       "      <th>length_of_residence</th>\n",
       "      <th>marital_status</th>\n",
       "      <th>home_owner</th>\n",
       "      <th>college_degree</th>\n",
       "      <th>good_credit</th>\n",
       "      <th>Churn</th>\n",
       "    </tr>\n",
       "  </thead>\n",
       "  <tbody>\n",
       "    <tr>\n",
       "      <th>0</th>\n",
       "      <td>1454.0</td>\n",
       "      <td>44</td>\n",
       "      <td>32.578829</td>\n",
       "      <td>-96.305006</td>\n",
       "      <td>Kaufman</td>\n",
       "      <td>Kaufman</td>\n",
       "      <td>22500.0</td>\n",
       "      <td>1.0</td>\n",
       "      <td>15.0</td>\n",
       "      <td>Married</td>\n",
       "      <td>1.0</td>\n",
       "      <td>1.0</td>\n",
       "      <td>1.0</td>\n",
       "      <td>0</td>\n",
       "    </tr>\n",
       "    <tr>\n",
       "      <th>1</th>\n",
       "      <td>1795.0</td>\n",
       "      <td>72</td>\n",
       "      <td>32.732209</td>\n",
       "      <td>-97.000893</td>\n",
       "      <td>Grand Prairie</td>\n",
       "      <td>Dallas</td>\n",
       "      <td>27500.0</td>\n",
       "      <td>0.0</td>\n",
       "      <td>2.0</td>\n",
       "      <td>Single</td>\n",
       "      <td>1.0</td>\n",
       "      <td>0.0</td>\n",
       "      <td>0.0</td>\n",
       "      <td>0</td>\n",
       "    </tr>\n",
       "    <tr>\n",
       "      <th>2</th>\n",
       "      <td>4818.0</td>\n",
       "      <td>55</td>\n",
       "      <td>32.819777</td>\n",
       "      <td>-96.846938</td>\n",
       "      <td>Dallas</td>\n",
       "      <td>Dallas</td>\n",
       "      <td>42500.0</td>\n",
       "      <td>0.0</td>\n",
       "      <td>10.0</td>\n",
       "      <td>Married</td>\n",
       "      <td>1.0</td>\n",
       "      <td>0.0</td>\n",
       "      <td>0.0</td>\n",
       "      <td>0</td>\n",
       "    </tr>\n",
       "    <tr>\n",
       "      <th>3</th>\n",
       "      <td>130.0</td>\n",
       "      <td>53</td>\n",
       "      <td>32.684065</td>\n",
       "      <td>-97.162180</td>\n",
       "      <td>Arlington</td>\n",
       "      <td>Tarrant</td>\n",
       "      <td>125000.0</td>\n",
       "      <td>1.0</td>\n",
       "      <td>6.0</td>\n",
       "      <td>Married</td>\n",
       "      <td>1.0</td>\n",
       "      <td>0.0</td>\n",
       "      <td>1.0</td>\n",
       "      <td>1</td>\n",
       "    </tr>\n",
       "    <tr>\n",
       "      <th>4</th>\n",
       "      <td>5896.0</td>\n",
       "      <td>50</td>\n",
       "      <td>32.751398</td>\n",
       "      <td>-97.376745</td>\n",
       "      <td>Fort Worth</td>\n",
       "      <td>Tarrant</td>\n",
       "      <td>87500.0</td>\n",
       "      <td>1.0</td>\n",
       "      <td>4.0</td>\n",
       "      <td>Married</td>\n",
       "      <td>1.0</td>\n",
       "      <td>1.0</td>\n",
       "      <td>1.0</td>\n",
       "      <td>0</td>\n",
       "    </tr>\n",
       "    <tr>\n",
       "      <th>...</th>\n",
       "      <td>...</td>\n",
       "      <td>...</td>\n",
       "      <td>...</td>\n",
       "      <td>...</td>\n",
       "      <td>...</td>\n",
       "      <td>...</td>\n",
       "      <td>...</td>\n",
       "      <td>...</td>\n",
       "      <td>...</td>\n",
       "      <td>...</td>\n",
       "      <td>...</td>\n",
       "      <td>...</td>\n",
       "      <td>...</td>\n",
       "      <td>...</td>\n",
       "    </tr>\n",
       "    <tr>\n",
       "      <th>1680904</th>\n",
       "      <td>803.0</td>\n",
       "      <td>55</td>\n",
       "      <td>32.678483</td>\n",
       "      <td>-96.665119</td>\n",
       "      <td>Dallas</td>\n",
       "      <td>Dallas</td>\n",
       "      <td>27500.0</td>\n",
       "      <td>1.0</td>\n",
       "      <td>3.0</td>\n",
       "      <td>Single</td>\n",
       "      <td>1.0</td>\n",
       "      <td>0.0</td>\n",
       "      <td>1.0</td>\n",
       "      <td>0</td>\n",
       "    </tr>\n",
       "    <tr>\n",
       "      <th>1680905</th>\n",
       "      <td>3261.0</td>\n",
       "      <td>77</td>\n",
       "      <td>32.972007</td>\n",
       "      <td>-96.688905</td>\n",
       "      <td>Richardson</td>\n",
       "      <td>Dallas</td>\n",
       "      <td>87500.0</td>\n",
       "      <td>0.0</td>\n",
       "      <td>1.0</td>\n",
       "      <td>Married</td>\n",
       "      <td>1.0</td>\n",
       "      <td>0.0</td>\n",
       "      <td>1.0</td>\n",
       "      <td>0</td>\n",
       "    </tr>\n",
       "    <tr>\n",
       "      <th>1680906</th>\n",
       "      <td>3403.0</td>\n",
       "      <td>41</td>\n",
       "      <td>32.902815</td>\n",
       "      <td>-96.510684</td>\n",
       "      <td>Rowlett</td>\n",
       "      <td>Dallas</td>\n",
       "      <td>125000.0</td>\n",
       "      <td>0.0</td>\n",
       "      <td>12.0</td>\n",
       "      <td>Married</td>\n",
       "      <td>1.0</td>\n",
       "      <td>1.0</td>\n",
       "      <td>1.0</td>\n",
       "      <td>0</td>\n",
       "    </tr>\n",
       "    <tr>\n",
       "      <th>1680907</th>\n",
       "      <td>1258.0</td>\n",
       "      <td>52</td>\n",
       "      <td>32.892940</td>\n",
       "      <td>-97.245317</td>\n",
       "      <td>Keller</td>\n",
       "      <td>Tarrant</td>\n",
       "      <td>87500.0</td>\n",
       "      <td>1.0</td>\n",
       "      <td>11.0</td>\n",
       "      <td>Single</td>\n",
       "      <td>1.0</td>\n",
       "      <td>1.0</td>\n",
       "      <td>1.0</td>\n",
       "      <td>0</td>\n",
       "    </tr>\n",
       "    <tr>\n",
       "      <th>1680908</th>\n",
       "      <td>2504.0</td>\n",
       "      <td>64</td>\n",
       "      <td>33.146851</td>\n",
       "      <td>-96.968217</td>\n",
       "      <td>Little Elm</td>\n",
       "      <td>Denton</td>\n",
       "      <td>225000.0</td>\n",
       "      <td>1.0</td>\n",
       "      <td>4.0</td>\n",
       "      <td>Married</td>\n",
       "      <td>1.0</td>\n",
       "      <td>0.0</td>\n",
       "      <td>1.0</td>\n",
       "      <td>0</td>\n",
       "    </tr>\n",
       "  </tbody>\n",
       "</table>\n",
       "<p>1409443 rows × 14 columns</p>\n",
       "</div>"
      ],
      "text/plain": [
       "         days_tenure  age_in_years   latitude  longitude           city  \\\n",
       "0             1454.0            44  32.578829 -96.305006        Kaufman   \n",
       "1             1795.0            72  32.732209 -97.000893  Grand Prairie   \n",
       "2             4818.0            55  32.819777 -96.846938         Dallas   \n",
       "3              130.0            53  32.684065 -97.162180      Arlington   \n",
       "4             5896.0            50  32.751398 -97.376745     Fort Worth   \n",
       "...              ...           ...        ...        ...            ...   \n",
       "1680904        803.0            55  32.678483 -96.665119         Dallas   \n",
       "1680905       3261.0            77  32.972007 -96.688905     Richardson   \n",
       "1680906       3403.0            41  32.902815 -96.510684        Rowlett   \n",
       "1680907       1258.0            52  32.892940 -97.245317         Keller   \n",
       "1680908       2504.0            64  33.146851 -96.968217     Little Elm   \n",
       "\n",
       "          county    income  has_children  length_of_residence marital_status  \\\n",
       "0        Kaufman   22500.0           1.0                 15.0        Married   \n",
       "1         Dallas   27500.0           0.0                  2.0         Single   \n",
       "2         Dallas   42500.0           0.0                 10.0        Married   \n",
       "3        Tarrant  125000.0           1.0                  6.0        Married   \n",
       "4        Tarrant   87500.0           1.0                  4.0        Married   \n",
       "...          ...       ...           ...                  ...            ...   \n",
       "1680904   Dallas   27500.0           1.0                  3.0         Single   \n",
       "1680905   Dallas   87500.0           0.0                  1.0        Married   \n",
       "1680906   Dallas  125000.0           0.0                 12.0        Married   \n",
       "1680907  Tarrant   87500.0           1.0                 11.0         Single   \n",
       "1680908   Denton  225000.0           1.0                  4.0        Married   \n",
       "\n",
       "         home_owner  college_degree  good_credit  Churn  \n",
       "0               1.0             1.0          1.0      0  \n",
       "1               1.0             0.0          0.0      0  \n",
       "2               1.0             0.0          0.0      0  \n",
       "3               1.0             0.0          1.0      1  \n",
       "4               1.0             1.0          1.0      0  \n",
       "...             ...             ...          ...    ...  \n",
       "1680904         1.0             0.0          1.0      0  \n",
       "1680905         1.0             0.0          1.0      0  \n",
       "1680906         1.0             1.0          1.0      0  \n",
       "1680907         1.0             1.0          1.0      0  \n",
       "1680908         1.0             0.0          1.0      0  \n",
       "\n",
       "[1409443 rows x 14 columns]"
      ]
     },
     "execution_count": 27,
     "metadata": {},
     "output_type": "execute_result"
    }
   ],
   "source": [
    "df"
   ]
  },
  {
   "cell_type": "code",
   "execution_count": 28,
   "id": "5d1a8b90",
   "metadata": {},
   "outputs": [
    {
     "data": {
      "text/plain": [
       "marital_status\n",
       "Married           928480\n",
       "Single            480963\n",
       "Name: count, dtype: int64"
      ]
     },
     "execution_count": 28,
     "metadata": {},
     "output_type": "execute_result"
    }
   ],
   "source": [
    "df[[\"marital_status\"]].value_counts()"
   ]
  },
  {
   "cell_type": "code",
   "execution_count": 29,
   "id": "98295a0b",
   "metadata": {},
   "outputs": [
    {
     "data": {
      "text/plain": [
       "Index(['days_tenure', 'age_in_years', 'latitude', 'longitude', 'city',\n",
       "       'county', 'income', 'has_children', 'length_of_residence',\n",
       "       'marital_status', 'home_owner', 'college_degree', 'good_credit',\n",
       "       'Churn'],\n",
       "      dtype='object')"
      ]
     },
     "execution_count": 29,
     "metadata": {},
     "output_type": "execute_result"
    }
   ],
   "source": [
    "df.columns"
   ]
  },
  {
   "cell_type": "code",
   "execution_count": 30,
   "id": "774d87e0",
   "metadata": {},
   "outputs": [
    {
     "data": {
      "text/plain": [
       "(1409443, 14)"
      ]
     },
     "execution_count": 30,
     "metadata": {},
     "output_type": "execute_result"
    }
   ],
   "source": [
    "df.shape"
   ]
  },
  {
   "cell_type": "code",
   "execution_count": 31,
   "id": "2eb3af9f",
   "metadata": {},
   "outputs": [
    {
     "name": "stderr",
     "output_type": "stream",
     "text": [
      "C:\\Users\\AS\\AppData\\Local\\Temp\\ipykernel_9252\\4283981166.py:7: SettingWithCopyWarning: \n",
      "A value is trying to be set on a copy of a slice from a DataFrame.\n",
      "Try using .loc[row_indexer,col_indexer] = value instead\n",
      "\n",
      "See the caveats in the documentation: https://pandas.pydata.org/pandas-docs/stable/user_guide/indexing.html#returning-a-view-versus-a-copy\n",
      "  df[column] = encoder.fit_transform(df[column])\n",
      "C:\\Users\\AS\\AppData\\Local\\Temp\\ipykernel_9252\\4283981166.py:7: SettingWithCopyWarning: \n",
      "A value is trying to be set on a copy of a slice from a DataFrame.\n",
      "Try using .loc[row_indexer,col_indexer] = value instead\n",
      "\n",
      "See the caveats in the documentation: https://pandas.pydata.org/pandas-docs/stable/user_guide/indexing.html#returning-a-view-versus-a-copy\n",
      "  df[column] = encoder.fit_transform(df[column])\n",
      "C:\\Users\\AS\\AppData\\Local\\Temp\\ipykernel_9252\\4283981166.py:7: SettingWithCopyWarning: \n",
      "A value is trying to be set on a copy of a slice from a DataFrame.\n",
      "Try using .loc[row_indexer,col_indexer] = value instead\n",
      "\n",
      "See the caveats in the documentation: https://pandas.pydata.org/pandas-docs/stable/user_guide/indexing.html#returning-a-view-versus-a-copy\n",
      "  df[column] = encoder.fit_transform(df[column])\n"
     ]
    }
   ],
   "source": [
    "from sklearn.preprocessing import LabelEncoder\n",
    "encoder = LabelEncoder()\n",
    "columns_to_encode = ['city', 'county', 'marital_status']\n",
    "\n",
    "# Apply LabelEncoder to each column\n",
    "for column in columns_to_encode:\n",
    "    df[column] = encoder.fit_transform(df[column])\n",
    " \n",
    "#alalternative way\n",
    "#df[['city', 'county', 'marital_status']] = endcoder.fit_transform(df[['city', 'county', 'marital_status']])"
   ]
  },
  {
   "cell_type": "code",
   "execution_count": 32,
   "id": "96840e96",
   "metadata": {},
   "outputs": [
    {
     "data": {
      "text/html": [
       "<div>\n",
       "<style scoped>\n",
       "    .dataframe tbody tr th:only-of-type {\n",
       "        vertical-align: middle;\n",
       "    }\n",
       "\n",
       "    .dataframe tbody tr th {\n",
       "        vertical-align: top;\n",
       "    }\n",
       "\n",
       "    .dataframe thead th {\n",
       "        text-align: right;\n",
       "    }\n",
       "</style>\n",
       "<table border=\"1\" class=\"dataframe\">\n",
       "  <thead>\n",
       "    <tr style=\"text-align: right;\">\n",
       "      <th></th>\n",
       "      <th>days_tenure</th>\n",
       "      <th>age_in_years</th>\n",
       "      <th>latitude</th>\n",
       "      <th>longitude</th>\n",
       "      <th>city</th>\n",
       "      <th>county</th>\n",
       "      <th>income</th>\n",
       "      <th>has_children</th>\n",
       "      <th>length_of_residence</th>\n",
       "      <th>marital_status</th>\n",
       "      <th>home_owner</th>\n",
       "      <th>college_degree</th>\n",
       "      <th>good_credit</th>\n",
       "      <th>Churn</th>\n",
       "    </tr>\n",
       "  </thead>\n",
       "  <tbody>\n",
       "    <tr>\n",
       "      <th>0</th>\n",
       "      <td>1454.0</td>\n",
       "      <td>44</td>\n",
       "      <td>32.578829</td>\n",
       "      <td>-96.305006</td>\n",
       "      <td>46</td>\n",
       "      <td>8</td>\n",
       "      <td>22500.0</td>\n",
       "      <td>1.0</td>\n",
       "      <td>15.0</td>\n",
       "      <td>0</td>\n",
       "      <td>1.0</td>\n",
       "      <td>1.0</td>\n",
       "      <td>1.0</td>\n",
       "      <td>0</td>\n",
       "    </tr>\n",
       "    <tr>\n",
       "      <th>1</th>\n",
       "      <td>1795.0</td>\n",
       "      <td>72</td>\n",
       "      <td>32.732209</td>\n",
       "      <td>-97.000893</td>\n",
       "      <td>36</td>\n",
       "      <td>2</td>\n",
       "      <td>27500.0</td>\n",
       "      <td>0.0</td>\n",
       "      <td>2.0</td>\n",
       "      <td>1</td>\n",
       "      <td>1.0</td>\n",
       "      <td>0.0</td>\n",
       "      <td>0.0</td>\n",
       "      <td>0</td>\n",
       "    </tr>\n",
       "    <tr>\n",
       "      <th>2</th>\n",
       "      <td>4818.0</td>\n",
       "      <td>55</td>\n",
       "      <td>32.819777</td>\n",
       "      <td>-96.846938</td>\n",
       "      <td>21</td>\n",
       "      <td>2</td>\n",
       "      <td>42500.0</td>\n",
       "      <td>0.0</td>\n",
       "      <td>10.0</td>\n",
       "      <td>0</td>\n",
       "      <td>1.0</td>\n",
       "      <td>0.0</td>\n",
       "      <td>0.0</td>\n",
       "      <td>0</td>\n",
       "    </tr>\n",
       "    <tr>\n",
       "      <th>3</th>\n",
       "      <td>130.0</td>\n",
       "      <td>53</td>\n",
       "      <td>32.684065</td>\n",
       "      <td>-97.162180</td>\n",
       "      <td>5</td>\n",
       "      <td>12</td>\n",
       "      <td>125000.0</td>\n",
       "      <td>1.0</td>\n",
       "      <td>6.0</td>\n",
       "      <td>0</td>\n",
       "      <td>1.0</td>\n",
       "      <td>0.0</td>\n",
       "      <td>1.0</td>\n",
       "      <td>1</td>\n",
       "    </tr>\n",
       "    <tr>\n",
       "      <th>4</th>\n",
       "      <td>5896.0</td>\n",
       "      <td>50</td>\n",
       "      <td>32.751398</td>\n",
       "      <td>-97.376745</td>\n",
       "      <td>33</td>\n",
       "      <td>12</td>\n",
       "      <td>87500.0</td>\n",
       "      <td>1.0</td>\n",
       "      <td>4.0</td>\n",
       "      <td>0</td>\n",
       "      <td>1.0</td>\n",
       "      <td>1.0</td>\n",
       "      <td>1.0</td>\n",
       "      <td>0</td>\n",
       "    </tr>\n",
       "    <tr>\n",
       "      <th>...</th>\n",
       "      <td>...</td>\n",
       "      <td>...</td>\n",
       "      <td>...</td>\n",
       "      <td>...</td>\n",
       "      <td>...</td>\n",
       "      <td>...</td>\n",
       "      <td>...</td>\n",
       "      <td>...</td>\n",
       "      <td>...</td>\n",
       "      <td>...</td>\n",
       "      <td>...</td>\n",
       "      <td>...</td>\n",
       "      <td>...</td>\n",
       "      <td>...</td>\n",
       "    </tr>\n",
       "    <tr>\n",
       "      <th>1680904</th>\n",
       "      <td>803.0</td>\n",
       "      <td>55</td>\n",
       "      <td>32.678483</td>\n",
       "      <td>-96.665119</td>\n",
       "      <td>21</td>\n",
       "      <td>2</td>\n",
       "      <td>27500.0</td>\n",
       "      <td>1.0</td>\n",
       "      <td>3.0</td>\n",
       "      <td>1</td>\n",
       "      <td>1.0</td>\n",
       "      <td>0.0</td>\n",
       "      <td>1.0</td>\n",
       "      <td>0</td>\n",
       "    </tr>\n",
       "    <tr>\n",
       "      <th>1680905</th>\n",
       "      <td>3261.0</td>\n",
       "      <td>77</td>\n",
       "      <td>32.972007</td>\n",
       "      <td>-96.688905</td>\n",
       "      <td>74</td>\n",
       "      <td>2</td>\n",
       "      <td>87500.0</td>\n",
       "      <td>0.0</td>\n",
       "      <td>1.0</td>\n",
       "      <td>0</td>\n",
       "      <td>1.0</td>\n",
       "      <td>0.0</td>\n",
       "      <td>1.0</td>\n",
       "      <td>0</td>\n",
       "    </tr>\n",
       "    <tr>\n",
       "      <th>1680906</th>\n",
       "      <td>3403.0</td>\n",
       "      <td>41</td>\n",
       "      <td>32.902815</td>\n",
       "      <td>-96.510684</td>\n",
       "      <td>77</td>\n",
       "      <td>2</td>\n",
       "      <td>125000.0</td>\n",
       "      <td>0.0</td>\n",
       "      <td>12.0</td>\n",
       "      <td>0</td>\n",
       "      <td>1.0</td>\n",
       "      <td>1.0</td>\n",
       "      <td>1.0</td>\n",
       "      <td>0</td>\n",
       "    </tr>\n",
       "    <tr>\n",
       "      <th>1680907</th>\n",
       "      <td>1258.0</td>\n",
       "      <td>52</td>\n",
       "      <td>32.892940</td>\n",
       "      <td>-97.245317</td>\n",
       "      <td>47</td>\n",
       "      <td>12</td>\n",
       "      <td>87500.0</td>\n",
       "      <td>1.0</td>\n",
       "      <td>11.0</td>\n",
       "      <td>1</td>\n",
       "      <td>1.0</td>\n",
       "      <td>1.0</td>\n",
       "      <td>1.0</td>\n",
       "      <td>0</td>\n",
       "    </tr>\n",
       "    <tr>\n",
       "      <th>1680908</th>\n",
       "      <td>2504.0</td>\n",
       "      <td>64</td>\n",
       "      <td>33.146851</td>\n",
       "      <td>-96.968217</td>\n",
       "      <td>55</td>\n",
       "      <td>3</td>\n",
       "      <td>225000.0</td>\n",
       "      <td>1.0</td>\n",
       "      <td>4.0</td>\n",
       "      <td>0</td>\n",
       "      <td>1.0</td>\n",
       "      <td>0.0</td>\n",
       "      <td>1.0</td>\n",
       "      <td>0</td>\n",
       "    </tr>\n",
       "  </tbody>\n",
       "</table>\n",
       "<p>1409443 rows × 14 columns</p>\n",
       "</div>"
      ],
      "text/plain": [
       "         days_tenure  age_in_years   latitude  longitude  city  county  \\\n",
       "0             1454.0            44  32.578829 -96.305006    46       8   \n",
       "1             1795.0            72  32.732209 -97.000893    36       2   \n",
       "2             4818.0            55  32.819777 -96.846938    21       2   \n",
       "3              130.0            53  32.684065 -97.162180     5      12   \n",
       "4             5896.0            50  32.751398 -97.376745    33      12   \n",
       "...              ...           ...        ...        ...   ...     ...   \n",
       "1680904        803.0            55  32.678483 -96.665119    21       2   \n",
       "1680905       3261.0            77  32.972007 -96.688905    74       2   \n",
       "1680906       3403.0            41  32.902815 -96.510684    77       2   \n",
       "1680907       1258.0            52  32.892940 -97.245317    47      12   \n",
       "1680908       2504.0            64  33.146851 -96.968217    55       3   \n",
       "\n",
       "           income  has_children  length_of_residence  marital_status  \\\n",
       "0         22500.0           1.0                 15.0               0   \n",
       "1         27500.0           0.0                  2.0               1   \n",
       "2         42500.0           0.0                 10.0               0   \n",
       "3        125000.0           1.0                  6.0               0   \n",
       "4         87500.0           1.0                  4.0               0   \n",
       "...           ...           ...                  ...             ...   \n",
       "1680904   27500.0           1.0                  3.0               1   \n",
       "1680905   87500.0           0.0                  1.0               0   \n",
       "1680906  125000.0           0.0                 12.0               0   \n",
       "1680907   87500.0           1.0                 11.0               1   \n",
       "1680908  225000.0           1.0                  4.0               0   \n",
       "\n",
       "         home_owner  college_degree  good_credit  Churn  \n",
       "0               1.0             1.0          1.0      0  \n",
       "1               1.0             0.0          0.0      0  \n",
       "2               1.0             0.0          0.0      0  \n",
       "3               1.0             0.0          1.0      1  \n",
       "4               1.0             1.0          1.0      0  \n",
       "...             ...             ...          ...    ...  \n",
       "1680904         1.0             0.0          1.0      0  \n",
       "1680905         1.0             0.0          1.0      0  \n",
       "1680906         1.0             1.0          1.0      0  \n",
       "1680907         1.0             1.0          1.0      0  \n",
       "1680908         1.0             0.0          1.0      0  \n",
       "\n",
       "[1409443 rows x 14 columns]"
      ]
     },
     "execution_count": 32,
     "metadata": {},
     "output_type": "execute_result"
    }
   ],
   "source": [
    "df"
   ]
  },
  {
   "cell_type": "code",
   "execution_count": 33,
   "id": "6f887e32",
   "metadata": {},
   "outputs": [
    {
     "data": {
      "text/plain": [
       "Index([], dtype='object')"
      ]
     },
     "execution_count": 33,
     "metadata": {},
     "output_type": "execute_result"
    }
   ],
   "source": [
    "categorical_columns = df.select_dtypes(exclude='number').columns\n",
    "categorical_columns"
   ]
  },
  {
   "cell_type": "code",
   "execution_count": 34,
   "id": "12c0708e",
   "metadata": {},
   "outputs": [],
   "source": [
    "X= df.drop(\"Churn\",axis=1)\n",
    "y= df[\"Churn\"]"
   ]
  },
  {
   "cell_type": "code",
   "execution_count": 35,
   "id": "269ef7b4",
   "metadata": {},
   "outputs": [],
   "source": [
    "X_train, X_test, y_train, y_test = train_test_split(X, y, test_size=0.25, random_state=42,shuffle=True, stratify=y)"
   ]
  },
  {
   "cell_type": "code",
   "execution_count": 36,
   "id": "5a4787b9",
   "metadata": {},
   "outputs": [
    {
     "name": "stdout",
     "output_type": "stream",
     "text": [
      "shape of X_train (1057082, 13) & shape of y_train (1057082,)\n",
      "shape of X_test (352361, 13) & shape of y_test (352361,)\n"
     ]
    }
   ],
   "source": [
    "print(f'shape of X_train {X_train.shape} & shape of y_train {y_train.shape}')\n",
    "print(f'shape of X_test {X_test.shape} & shape of y_test {y_test.shape}')"
   ]
  },
  {
   "cell_type": "code",
   "execution_count": 37,
   "id": "15a0d6d6",
   "metadata": {},
   "outputs": [],
   "source": [
    "from sklearn.preprocessing import StandardScaler\n",
    "#sklearn preprocessing\n",
    "standard_scaler = StandardScaler() #z-score\n",
    "X_train = standard_scaler.fit_transform(X_train)\n",
    "X_test = standard_scaler.fit_transform(X_test)\n"
   ]
  },
  {
   "cell_type": "code",
   "execution_count": 38,
   "id": "70d49a07",
   "metadata": {},
   "outputs": [
    {
     "data": {
      "text/plain": [
       "array([[-1.51559859, -0.08456862,  1.26563689, ...,  0.32519125,\n",
       "        -0.75166136,  0.40673204],\n",
       "       [ 1.13318223, -0.01471427, -0.7250693 , ...,  0.32519125,\n",
       "        -0.75166136,  0.40673204],\n",
       "       [-0.84604685, -0.57354907, -0.6405049 , ...,  0.32519125,\n",
       "        -0.75166136, -2.45862118],\n",
       "       ...,\n",
       "       [-0.17990683, -0.08456862,  1.69684567, ...,  0.32519125,\n",
       "        -0.75166136,  0.40673204],\n",
       "       [ 0.19666272, -0.43384037, -0.63067903, ...,  0.32519125,\n",
       "        -0.75166136,  0.40673204],\n",
       "       [-0.00846746, -0.08456862,  1.28530926, ...,  0.32519125,\n",
       "         1.33038633,  0.40673204]])"
      ]
     },
     "execution_count": 38,
     "metadata": {},
     "output_type": "execute_result"
    }
   ],
   "source": [
    "X_train"
   ]
  },
  {
   "cell_type": "code",
   "execution_count": 39,
   "id": "b6eb26de",
   "metadata": {},
   "outputs": [
    {
     "data": {
      "text/plain": [
       "array([[ 1.13253686,  2.21476739, -0.46819622, ...,  0.32576519,\n",
       "        -0.75063312,  0.40769325],\n",
       "       [ 1.13253686, -0.50467999,  0.48147421, ...,  0.32576519,\n",
       "        -0.75063312,  0.40769325],\n",
       "       [-1.48991477, -0.01657405, -0.23674376, ...,  0.32576519,\n",
       "        -0.75063312, -2.45282451],\n",
       "       ...,\n",
       "       [ 1.12059919,  0.33207305, -0.05538672, ...,  0.32576519,\n",
       "         1.33220873,  0.40769325],\n",
       "       [ 1.13253686,  0.26234363, -0.27801183, ...,  0.32576519,\n",
       "        -0.75063312,  0.40769325],\n",
       "       [-0.00324775, -0.71386825,  1.09995456, ...,  0.32576519,\n",
       "        -0.75063312,  0.40769325]])"
      ]
     },
     "execution_count": 39,
     "metadata": {},
     "output_type": "execute_result"
    }
   ],
   "source": [
    "X_test"
   ]
  },
  {
   "cell_type": "markdown",
   "id": "d47092f8",
   "metadata": {},
   "source": [
    "https://chat.openai.com/share/cd7abbe7-c427-45a3-8918-85230eb7612f"
   ]
  },
  {
   "cell_type": "markdown",
   "id": "c1708fce",
   "metadata": {},
   "source": [
    "# Machine Learning"
   ]
  },
  {
   "cell_type": "raw",
   "id": "a2e44f32",
   "metadata": {},
   "source": [
    "Welecome to ML"
   ]
  },
  {
   "cell_type": "code",
   "execution_count": 40,
   "id": "c65a7c56",
   "metadata": {},
   "outputs": [
    {
     "name": "stdout",
     "output_type": "stream",
     "text": [
      "Defaulting to user installation because normal site-packages is not writeable\n",
      "Requirement already satisfied: xgboost in c:\\users\\as\\appdata\\roaming\\python\\python311\\site-packages (2.0.3)\n",
      "Requirement already satisfied: numpy in c:\\programdata\\anaconda3\\lib\\site-packages (from xgboost) (1.24.3)\n",
      "Requirement already satisfied: scipy in c:\\programdata\\anaconda3\\lib\\site-packages (from xgboost) (1.11.1)\n"
     ]
    }
   ],
   "source": [
    "!pip install xgboost"
   ]
  },
  {
   "cell_type": "code",
   "execution_count": 41,
   "id": "4638a0b0",
   "metadata": {},
   "outputs": [],
   "source": [
    "import xgboost as xgb"
   ]
  },
  {
   "cell_type": "code",
   "execution_count": 42,
   "id": "6a91fee5",
   "metadata": {},
   "outputs": [
    {
     "data": {
      "text/html": [
       "<style>#sk-container-id-1 {color: black;}#sk-container-id-1 pre{padding: 0;}#sk-container-id-1 div.sk-toggleable {background-color: white;}#sk-container-id-1 label.sk-toggleable__label {cursor: pointer;display: block;width: 100%;margin-bottom: 0;padding: 0.3em;box-sizing: border-box;text-align: center;}#sk-container-id-1 label.sk-toggleable__label-arrow:before {content: \"▸\";float: left;margin-right: 0.25em;color: #696969;}#sk-container-id-1 label.sk-toggleable__label-arrow:hover:before {color: black;}#sk-container-id-1 div.sk-estimator:hover label.sk-toggleable__label-arrow:before {color: black;}#sk-container-id-1 div.sk-toggleable__content {max-height: 0;max-width: 0;overflow: hidden;text-align: left;background-color: #f0f8ff;}#sk-container-id-1 div.sk-toggleable__content pre {margin: 0.2em;color: black;border-radius: 0.25em;background-color: #f0f8ff;}#sk-container-id-1 input.sk-toggleable__control:checked~div.sk-toggleable__content {max-height: 200px;max-width: 100%;overflow: auto;}#sk-container-id-1 input.sk-toggleable__control:checked~label.sk-toggleable__label-arrow:before {content: \"▾\";}#sk-container-id-1 div.sk-estimator input.sk-toggleable__control:checked~label.sk-toggleable__label {background-color: #d4ebff;}#sk-container-id-1 div.sk-label input.sk-toggleable__control:checked~label.sk-toggleable__label {background-color: #d4ebff;}#sk-container-id-1 input.sk-hidden--visually {border: 0;clip: rect(1px 1px 1px 1px);clip: rect(1px, 1px, 1px, 1px);height: 1px;margin: -1px;overflow: hidden;padding: 0;position: absolute;width: 1px;}#sk-container-id-1 div.sk-estimator {font-family: monospace;background-color: #f0f8ff;border: 1px dotted black;border-radius: 0.25em;box-sizing: border-box;margin-bottom: 0.5em;}#sk-container-id-1 div.sk-estimator:hover {background-color: #d4ebff;}#sk-container-id-1 div.sk-parallel-item::after {content: \"\";width: 100%;border-bottom: 1px solid gray;flex-grow: 1;}#sk-container-id-1 div.sk-label:hover label.sk-toggleable__label {background-color: #d4ebff;}#sk-container-id-1 div.sk-serial::before {content: \"\";position: absolute;border-left: 1px solid gray;box-sizing: border-box;top: 0;bottom: 0;left: 50%;z-index: 0;}#sk-container-id-1 div.sk-serial {display: flex;flex-direction: column;align-items: center;background-color: white;padding-right: 0.2em;padding-left: 0.2em;position: relative;}#sk-container-id-1 div.sk-item {position: relative;z-index: 1;}#sk-container-id-1 div.sk-parallel {display: flex;align-items: stretch;justify-content: center;background-color: white;position: relative;}#sk-container-id-1 div.sk-item::before, #sk-container-id-1 div.sk-parallel-item::before {content: \"\";position: absolute;border-left: 1px solid gray;box-sizing: border-box;top: 0;bottom: 0;left: 50%;z-index: -1;}#sk-container-id-1 div.sk-parallel-item {display: flex;flex-direction: column;z-index: 1;position: relative;background-color: white;}#sk-container-id-1 div.sk-parallel-item:first-child::after {align-self: flex-end;width: 50%;}#sk-container-id-1 div.sk-parallel-item:last-child::after {align-self: flex-start;width: 50%;}#sk-container-id-1 div.sk-parallel-item:only-child::after {width: 0;}#sk-container-id-1 div.sk-dashed-wrapped {border: 1px dashed gray;margin: 0 0.4em 0.5em 0.4em;box-sizing: border-box;padding-bottom: 0.4em;background-color: white;}#sk-container-id-1 div.sk-label label {font-family: monospace;font-weight: bold;display: inline-block;line-height: 1.2em;}#sk-container-id-1 div.sk-label-container {text-align: center;}#sk-container-id-1 div.sk-container {/* jupyter's `normalize.less` sets `[hidden] { display: none; }` but bootstrap.min.css set `[hidden] { display: none !important; }` so we also need the `!important` here to be able to override the default hidden behavior on the sphinx rendered scikit-learn.org. See: https://github.com/scikit-learn/scikit-learn/issues/21755 */display: inline-block !important;position: relative;}#sk-container-id-1 div.sk-text-repr-fallback {display: none;}</style><div id=\"sk-container-id-1\" class=\"sk-top-container\"><div class=\"sk-text-repr-fallback\"><pre>XGBClassifier(base_score=None, booster=None, callbacks=None,\n",
       "              colsample_bylevel=None, colsample_bynode=None,\n",
       "              colsample_bytree=None, device=None, early_stopping_rounds=None,\n",
       "              enable_categorical=False, eval_metric=None, feature_types=None,\n",
       "              gamma=None, grow_policy=None, importance_type=None,\n",
       "              interaction_constraints=None, learning_rate=0.009, max_bin=None,\n",
       "              max_cat_threshold=None, max_cat_to_onehot=None,\n",
       "              max_delta_step=None, max_depth=3, max_leaves=None,\n",
       "              min_child_weight=1, missing=nan, monotone_constraints=None,\n",
       "              multi_strategy=None, n_estimators=390, n_jobs=None,\n",
       "              num_parallel_tree=None, random_state=None, ...)</pre><b>In a Jupyter environment, please rerun this cell to show the HTML representation or trust the notebook. <br />On GitHub, the HTML representation is unable to render, please try loading this page with nbviewer.org.</b></div><div class=\"sk-container\" hidden><div class=\"sk-item\"><div class=\"sk-estimator sk-toggleable\"><input class=\"sk-toggleable__control sk-hidden--visually\" id=\"sk-estimator-id-1\" type=\"checkbox\" checked><label for=\"sk-estimator-id-1\" class=\"sk-toggleable__label sk-toggleable__label-arrow\">XGBClassifier</label><div class=\"sk-toggleable__content\"><pre>XGBClassifier(base_score=None, booster=None, callbacks=None,\n",
       "              colsample_bylevel=None, colsample_bynode=None,\n",
       "              colsample_bytree=None, device=None, early_stopping_rounds=None,\n",
       "              enable_categorical=False, eval_metric=None, feature_types=None,\n",
       "              gamma=None, grow_policy=None, importance_type=None,\n",
       "              interaction_constraints=None, learning_rate=0.009, max_bin=None,\n",
       "              max_cat_threshold=None, max_cat_to_onehot=None,\n",
       "              max_delta_step=None, max_depth=3, max_leaves=None,\n",
       "              min_child_weight=1, missing=nan, monotone_constraints=None,\n",
       "              multi_strategy=None, n_estimators=390, n_jobs=None,\n",
       "              num_parallel_tree=None, random_state=None, ...)</pre></div></div></div></div></div>"
      ],
      "text/plain": [
       "XGBClassifier(base_score=None, booster=None, callbacks=None,\n",
       "              colsample_bylevel=None, colsample_bynode=None,\n",
       "              colsample_bytree=None, device=None, early_stopping_rounds=None,\n",
       "              enable_categorical=False, eval_metric=None, feature_types=None,\n",
       "              gamma=None, grow_policy=None, importance_type=None,\n",
       "              interaction_constraints=None, learning_rate=0.009, max_bin=None,\n",
       "              max_cat_threshold=None, max_cat_to_onehot=None,\n",
       "              max_delta_step=None, max_depth=3, max_leaves=None,\n",
       "              min_child_weight=1, missing=nan, monotone_constraints=None,\n",
       "              multi_strategy=None, n_estimators=390, n_jobs=None,\n",
       "              num_parallel_tree=None, random_state=None, ...)"
      ]
     },
     "execution_count": 42,
     "metadata": {},
     "output_type": "execute_result"
    }
   ],
   "source": [
    "reg = xgb.XGBClassifier(learning_rate= 0.009, max_depth= 3, min_child_weight= 1, n_estimators =390) #for binary classification\n",
    "reg.fit(X_train, y_train) #training data"
   ]
  },
  {
   "cell_type": "code",
   "execution_count": 43,
   "id": "d780dafa",
   "metadata": {},
   "outputs": [],
   "source": [
    "y_pred = reg.predict(X_test)"
   ]
  },
  {
   "cell_type": "code",
   "execution_count": null,
   "id": "43e03e92",
   "metadata": {},
   "outputs": [],
   "source": []
  },
  {
   "cell_type": "markdown",
   "id": "9ea903ba",
   "metadata": {},
   "source": [
    "# Evaluation"
   ]
  },
  {
   "cell_type": "code",
   "execution_count": 44,
   "id": "349d3801",
   "metadata": {},
   "outputs": [],
   "source": [
    "from sklearn.metrics import accuracy_score, confusion_matrix, classification_report"
   ]
  },
  {
   "cell_type": "code",
   "execution_count": 45,
   "id": "096c6a2c",
   "metadata": {},
   "outputs": [
    {
     "data": {
      "text/plain": [
       "0.885918135094406"
      ]
     },
     "execution_count": 45,
     "metadata": {},
     "output_type": "execute_result"
    }
   ],
   "source": [
    "    accuracy_score(y_test, y_pred)"
   ]
  },
  {
   "cell_type": "code",
   "execution_count": 46,
   "id": "5b52d1ce",
   "metadata": {},
   "outputs": [
    {
     "data": {
      "image/png": "[encoded data removed]",
      "text/plain": [
       "<Figure size 640x480 with 2 Axes>"
      ]
     },
     "metadata": {},
     "output_type": "display_data"
    }
   ],
   "source": [
    "confusion_matrix(y_test, y_pred)\n",
    "sns.heatmap(confusion_matrix(y_test, y_pred), annot=True)\n",
    "plt.show()"
   ]
  },
  {
   "cell_type": "code",
   "execution_count": 47,
   "id": "10e737c5",
   "metadata": {},
   "outputs": [
    {
     "data": {
      "text/plain": [
       "array([[308986,   3317],\n",
       "       [ 36881,   3177]], dtype=int64)"
      ]
     },
     "execution_count": 47,
     "metadata": {},
     "output_type": "execute_result"
    }
   ],
   "source": [
    "confusion_matrix(y_test, y_pred)"
   ]
  },
  {
   "cell_type": "code",
   "execution_count": 48,
   "id": "46abe37a",
   "metadata": {},
   "outputs": [
    {
     "name": "stdout",
     "output_type": "stream",
     "text": [
      "              precision    recall  f1-score   support\n",
      "\n",
      "           0       0.89      0.99      0.94    312303\n",
      "           1       0.49      0.08      0.14     40058\n",
      "\n",
      "    accuracy                           0.89    352361\n",
      "   macro avg       0.69      0.53      0.54    352361\n",
      "weighted avg       0.85      0.89      0.85    352361\n",
      "\n"
     ]
    }
   ],
   "source": [
    "print(classification_report(y_test, y_pred))"
   ]
  },
  {
   "cell_type": "raw",
   "id": "e4e905a3",
   "metadata": {},
   "source": [
    "# hyperparameter tuning\n",
    "from sklearn.model_selection import train_test_split, GridSearchCV\n",
    "from sklearn.metrics import accuracy_score\n",
    "from xgboost import XGBClassifier\n",
    "\n",
    "# Define the parameter grid\n",
    "param_grid = {\n",
    "    'learning_rate': [0.009], \n",
    "    'max_depth': [3],\n",
    "    'min_child_weight': [1, 3, 5],\n",
    "    #'gamma': [0, 0.1, 0.2],\n",
    "   # 'colsample_bytree': [0.5, 0.7, 0.9],\n",
    "    'n_estimators': [390,296]\n",
    "}\n",
    "\n",
    "# Initialize XGBClassifier\n",
    "xgb_model = XGBClassifier()\n",
    "\n",
    "# Initialize GridSearchCV\n",
    "grid_search = GridSearchCV(estimator=xgb_model, param_grid=param_grid, cv=2, scoring='accuracy', verbose=2, n_jobs=-1)\n",
    "\n",
    "# Perform grid search\n",
    "grid_search.fit(X_train, y_train)\n",
    "\n",
    "# Print the best parameters found\n",
    "print(\"Best parameters found:\", grid_search.best_params_)\n",
    "\n",
    "# Evaluate the model with best parameters on the test set\n",
    "best_model = grid_search.best_estimator_\n",
    "y_pred = best_model.predict(X_test)\n",
    "accuracy = accuracy_score(y_test, y_pred)\n",
    "print(\"Accuracy on test set:\", accuracy)\n"
   ]
  },
  {
   "cell_type": "code",
   "execution_count": null,
   "id": "c05ee8e4",
   "metadata": {},
   "outputs": [],
   "source": []
  },
  {
   "cell_type": "code",
   "execution_count": 49,
   "id": "096e9e2d",
   "metadata": {},
   "outputs": [],
   "source": [
    "import lightgbm as light"
   ]
  },
  {
   "cell_type": "code",
   "execution_count": 50,
   "id": "d76da470",
   "metadata": {},
   "outputs": [
    {
     "name": "stdout",
     "output_type": "stream",
     "text": [
      "[LightGBM] [Info] Number of positive: 120173, number of negative: 936909\n",
      "[LightGBM] [Info] Auto-choosing col-wise multi-threading, the overhead of testing was 0.365588 seconds.\n",
      "You can set `force_col_wise=true` to remove the overhead.\n",
      "[LightGBM] [Info] Total Bins 1018\n",
      "[LightGBM] [Info] Number of data points in the train set: 1057082, number of used features: 13\n",
      "[LightGBM] [Info] [binary:BoostFromScore]: pavg=0.113684 -> initscore=-2.053654\n",
      "[LightGBM] [Info] Start training from score -2.053654\n"
     ]
    }
   ],
   "source": [
    "gbm = light.LGBMClassifier().fit(X_train, y_train)"
   ]
  },
  {
   "cell_type": "code",
   "execution_count": 51,
   "id": "e21945fa",
   "metadata": {},
   "outputs": [],
   "source": [
    "prediction= gbm.predict(X_test)"
   ]
  },
  {
   "cell_type": "code",
   "execution_count": 52,
   "id": "21b69149",
   "metadata": {},
   "outputs": [
    {
     "data": {
      "text/plain": [
       "0.8860713870150215"
      ]
     },
     "execution_count": 52,
     "metadata": {},
     "output_type": "execute_result"
    }
   ],
   "source": [
    "LightGBM"
   ]
  },
  {
   "cell_type": "code",
   "execution_count": 53,
   "id": "5ded1de7",
   "metadata": {},
   "outputs": [
    {
     "name": "stdout",
     "output_type": "stream",
     "text": [
      "              precision    recall  f1-score   support\n",
      "\n",
      "           0       0.90      0.97      0.94    312303\n",
      "           1       0.50      0.19      0.28     40058\n",
      "\n",
      "    accuracy                           0.89    352361\n",
      "   macro avg       0.70      0.58      0.61    352361\n",
      "weighted avg       0.86      0.89      0.86    352361\n",
      "\n"
     ]
    }
   ],
   "source": [
    "print(classification_report(y_test, prediction))"
   ]
  },
  {
   "cell_type": "code",
   "execution_count": 57,
   "id": "8435f0ec",
   "metadata": {},
   "outputs": [],
   "source": [
    "from sklearn.ensemble import GradientBoostingClassifier"
   ]
  },
  {
   "cell_type": "code",
   "execution_count": 58,
   "id": "0bde4055",
   "metadata": {},
   "outputs": [],
   "source": [
    "gradient = GradientBoostingClassifier(n_jobs=-1).fit(X_train, y_train)"
   ]
  },
  {
   "cell_type": "code",
   "execution_count": 59,
   "id": "7d19aa84",
   "metadata": {},
   "outputs": [],
   "source": [
    "preddd = gradient.predict(X_test)"
   ]
  },
  {
   "cell_type": "code",
   "execution_count": 61,
   "id": "bc2eb662",
   "metadata": {},
   "outputs": [
    {
     "data": {
      "text/plain": [
       "array([[304421,   7882],\n",
       "       [ 32279,   7779]], dtype=int64)"
      ]
     },
     "execution_count": 61,
     "metadata": {},
     "output_type": "execute_result"
    }
   ],
   "source": [
    "confusion_matrix(y_test, preddd)"
   ]
  },
  {
   "cell_type": "code",
   "execution_count": 62,
   "id": "240255c9",
   "metadata": {},
   "outputs": [
    {
     "name": "stdout",
     "output_type": "stream",
     "text": [
      "              precision    recall  f1-score   support\n",
      "\n",
      "           0       0.90      0.97      0.94    312303\n",
      "           1       0.50      0.19      0.28     40058\n",
      "\n",
      "    accuracy                           0.89    352361\n",
      "   macro avg       0.70      0.58      0.61    352361\n",
      "weighted avg       0.86      0.89      0.86    352361\n",
      "\n"
     ]
    }
   ],
   "source": [
    "print(classification_report(y_test, preddd))"
   ]
  },
  {
   "cell_type": "code",
   "execution_count": 63,
   "id": "55563a20",
   "metadata": {},
   "outputs": [
    {
     "data": {
      "text/plain": [
       "0.8860231410400129"
      ]
     },
     "execution_count": 63,
     "metadata": {},
     "output_type": "execute_result"
    }
   ],
   "source": [
    "accuracy_score(y_test, preddd)"
   ]
  },
  {
   "cell_type": "code",
   "execution_count": null,
   "id": "b504e04e",
   "metadata": {},
   "outputs": [],
   "source": []
  }
 ],
 "metadata": {
  "kernelspec": {
   "display_name": "Python 3 (ipykernel)",
   "language": "python",
   "name": "python3"
  },
  "language_info": {
   "codemirror_mode": {
    "name": "ipython",
    "version": 3
   },
   "file_extension": ".py",
   "mimetype": "text/x-python",
   "name": "python",
   "nbconvert_exporter": "python",
   "pygments_lexer": "ipython3",
   "version": "3.11.5"
  }
 },
 "nbformat": 4,
 "nbformat_minor": 5
}
